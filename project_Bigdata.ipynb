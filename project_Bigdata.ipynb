{
 "cells": [
  {
   "cell_type": "code",
   "execution_count": 1,
   "metadata": {},
   "outputs": [
    {
     "data": {
      "text/html": [
       "\n",
       "        <div>\n",
       "            <p><b>SparkContext</b></p>\n",
       "\n",
       "            <p><a href=\"http://UP1-15M96S2.ad.univ-paris1.fr:4042\">Spark UI</a></p>\n",
       "\n",
       "            <dl>\n",
       "              <dt>Version</dt>\n",
       "                <dd><code>v3.0.0-preview2</code></dd>\n",
       "              <dt>Master</dt>\n",
       "                <dd><code>local[*]</code></dd>\n",
       "              <dt>AppName</dt>\n",
       "                <dd><code>PySparkShell</code></dd>\n",
       "            </dl>\n",
       "        </div>\n",
       "        "
      ],
      "text/plain": [
       "<SparkContext master=local[*] appName=PySparkShell>"
      ]
     },
     "execution_count": 1,
     "metadata": {},
     "output_type": "execute_result"
    }
   ],
   "source": [
    "sc"
   ]
  },
  {
   "cell_type": "markdown",
   "metadata": {},
   "source": [
    "# Loading data and preprocessing"
   ]
  },
  {
   "cell_type": "code",
   "execution_count": 170,
   "metadata": {},
   "outputs": [],
   "source": [
    "data=sc.textFile(\"C:/Users/Admin/Downloads/project.csv\")"
   ]
  },
  {
   "cell_type": "code",
   "execution_count": 33,
   "metadata": {},
   "outputs": [
    {
     "data": {
      "text/plain": [
       "pyspark.rdd.RDD"
      ]
     },
     "execution_count": 33,
     "metadata": {},
     "output_type": "execute_result"
    }
   ],
   "source": [
    "##type of data\n",
    "type(data)"
   ]
  },
  {
   "cell_type": "code",
   "execution_count": 57,
   "metadata": {},
   "outputs": [
    {
     "data": {
      "text/plain": [
       "45212"
      ]
     },
     "execution_count": 57,
     "metadata": {},
     "output_type": "execute_result"
    }
   ],
   "source": [
    "##length of the data\n",
    "data.count()"
   ]
  },
  {
   "cell_type": "code",
   "execution_count": 78,
   "metadata": {},
   "outputs": [
    {
     "data": {
      "text/plain": [
       "['\"age,\"\"job\"\",\"\"marital\"\",\"\"education\"\",\"\"default\"\",\"\"balance\"\",\"\"housing\"\",\"\"loan\"\",\"\"contact\"\",\"\"day\"\",\"\"month\"\",\"\"duration\"\",\"\"campaign\"\",\"\"pdays\"\",\"\"previous\"\",\"\"poutcome\"\",\"\"y\"\"\"',\n",
       " '\"58,\"\"management\"\",\"\"married\"\",\"\"tertiary\"\",\"\"no\"\",2143,\"\"yes\"\",\"\"no\"\",\"\"unknown\"\",5,\"\"may\"\",261,1,-1,0,\"\"unknown\"\",\"\"no\"\"\"',\n",
       " '\"44,\"\"technician\"\",\"\"single\"\",\"\"secondary\"\",\"\"no\"\",29,\"\"yes\"\",\"\"no\"\",\"\"unknown\"\",5,\"\"may\"\",151,1,-1,0,\"\"unknown\"\",\"\"no\"\"\"',\n",
       " '\"33,\"\"entrepreneur\"\",\"\"married\"\",\"\"secondary\"\",\"\"no\"\",2,\"\"yes\"\",\"\"yes\"\",\"\"unknown\"\",5,\"\"may\"\",76,1,-1,0,\"\"unknown\"\",\"\"no\"\"\"',\n",
       " '\"47,\"\"blue-collar\"\",\"\"married\"\",\"\"unknown\"\",\"\"no\"\",1506,\"\"yes\"\",\"\"no\"\",\"\"unknown\"\",5,\"\"may\"\",92,1,-1,0,\"\"unknown\"\",\"\"no\"\"\"']"
      ]
     },
     "execution_count": 78,
     "metadata": {},
     "output_type": "execute_result"
    }
   ],
   "source": [
    "##first 5 rows of the data\n",
    "data.take(5)"
   ]
  },
  {
   "cell_type": "markdown",
   "metadata": {},
   "source": [
    "### Transformation of the data"
   ]
  },
  {
   "cell_type": "code",
   "execution_count": 171,
   "metadata": {},
   "outputs": [
    {
     "data": {
      "text/plain": [
       "[['\"58',\n",
       "  '\"\"management\"\"',\n",
       "  '\"\"married\"\"',\n",
       "  '\"\"tertiary\"\"',\n",
       "  '\"\"no\"\"',\n",
       "  '2143',\n",
       "  '\"\"yes\"\"',\n",
       "  '\"\"no\"\"',\n",
       "  '\"\"unknown\"\"',\n",
       "  '5',\n",
       "  '\"\"may\"\"',\n",
       "  '261',\n",
       "  '1',\n",
       "  '-1',\n",
       "  '0',\n",
       "  '\"\"unknown\"\"',\n",
       "  '\"\"no\"\"\"'],\n",
       " ['\"44',\n",
       "  '\"\"technician\"\"',\n",
       "  '\"\"single\"\"',\n",
       "  '\"\"secondary\"\"',\n",
       "  '\"\"no\"\"',\n",
       "  '29',\n",
       "  '\"\"yes\"\"',\n",
       "  '\"\"no\"\"',\n",
       "  '\"\"unknown\"\"',\n",
       "  '5',\n",
       "  '\"\"may\"\"',\n",
       "  '151',\n",
       "  '1',\n",
       "  '-1',\n",
       "  '0',\n",
       "  '\"\"unknown\"\"',\n",
       "  '\"\"no\"\"\"'],\n",
       " ['\"33',\n",
       "  '\"\"entrepreneur\"\"',\n",
       "  '\"\"married\"\"',\n",
       "  '\"\"secondary\"\"',\n",
       "  '\"\"no\"\"',\n",
       "  '2',\n",
       "  '\"\"yes\"\"',\n",
       "  '\"\"yes\"\"',\n",
       "  '\"\"unknown\"\"',\n",
       "  '5',\n",
       "  '\"\"may\"\"',\n",
       "  '76',\n",
       "  '1',\n",
       "  '-1',\n",
       "  '0',\n",
       "  '\"\"unknown\"\"',\n",
       "  '\"\"no\"\"\"']]"
      ]
     },
     "execution_count": 171,
     "metadata": {},
     "output_type": "execute_result"
    }
   ],
   "source": [
    "#We may need to note that each row of the data is a character string, and it would be more convenient to have an array \n",
    "#in some senarios. We can use map to transform them\n",
    "content = data.map(lambda x: x.split(','))\n",
    "content.take(3)"
   ]
  },
  {
   "cell_type": "code",
   "execution_count": 172,
   "metadata": {},
   "outputs": [],
   "source": [
    "## let us replace the \"\" by ''\n",
    "def clean(x):\n",
    "        return([xx.replace('\"\"', '').replace('\"','') for xx in x])\n",
    "\n",
    "content = content.map(clean)\n",
    "\n",
    "A=content.take(3)"
   ]
  },
  {
   "cell_type": "code",
   "execution_count": 169,
   "metadata": {},
   "outputs": [
    {
     "data": {
      "text/plain": [
       "45212"
      ]
     },
     "execution_count": 169,
     "metadata": {},
     "output_type": "execute_result"
    }
   ],
   "source": [
    "df.count()\n"
   ]
  },
  {
   "cell_type": "code",
   "execution_count": 173,
   "metadata": {},
   "outputs": [],
   "source": [
    "##transformation of data into pyspark dataframe\n",
    "\n",
    "dat = content.map(lambda x: Row(age=x[0], job=x[1],marital=x[2],education=x[3],default=x[4],balance=x[5],housing=x[6],\n",
    "                         loan=x[7],contact=x[8],day=x[9],month=x[10],duration=x[11],campaign=x[12],         \n",
    "                         pdays=x[13],previous=x[14],poutcome=x[15],y=x[16]))\n",
    "df = sqlContext.createDataFrame(dat)"
   ]
  },
  {
   "cell_type": "code",
   "execution_count": 210,
   "metadata": {},
   "outputs": [
    {
     "name": "stdout",
     "output_type": "stream",
     "text": [
      "+---+-------+--------+-------+---+-------+--------+---------+-------+----------+----+-------+-----+-----+--------+--------+---+\n",
      "|age|balance|campaign|contact|day|default|duration|education|housing|job       |loan|marital|month|pdays|poutcome|previous|y  |\n",
      "+---+-------+--------+-------+---+-------+--------+---------+-------+----------+----+-------+-----+-----+--------+--------+---+\n",
      "|58 |2143   |1       |unknown|5  |no     |261     |tertiary |yes    |management|no  |married|may  |-1   |unknown |0       |no |\n",
      "|44 |29     |1       |unknown|5  |no     |151     |secondary|yes    |technician|no  |single |may  |-1   |unknown |0       |no |\n",
      "+---+-------+--------+-------+---+-------+--------+---------+-------+----------+----+-------+-----+-----+--------+--------+---+\n",
      "only showing top 2 rows\n",
      "\n"
     ]
    }
   ],
   "source": [
    "#let us view the first two rows\n",
    "df.show(2,truncate= True)"
   ]
  },
  {
   "cell_type": "code",
   "execution_count": 141,
   "metadata": {},
   "outputs": [
    {
     "name": "stdout",
     "output_type": "stream",
     "text": [
      "+-------+-----------------+------------------+------------------+--------+-----------------+-------+-----------------+---------+-------+-------+-----+--------+-----+------------------+--------+------------------+-----+\n",
      "|summary|              age|           balance|          campaign| contact|              day|default|         duration|education|housing|    job| loan| marital|month|             pdays|poutcome|          previous|    y|\n",
      "+-------+-----------------+------------------+------------------+--------+-----------------+-------+-----------------+---------+-------+-------+-----+--------+-----+------------------+--------+------------------+-----+\n",
      "|  count|            45212|             45212|             45212|   45212|            45212|  45212|            45212|    45212|  45212|  45212|45212|   45212|45212|             45212|   45212|             45212|45212|\n",
      "|   mean|40.93621021432837|1362.2720576850766| 2.763840658246887|    null|15.80641879188693|   null|258.1630797814691|     null|   null|   null| null|    null| null| 40.19782796222158|    null|0.5803233726305546| null|\n",
      "| stddev|10.61876204097542| 3044.765829168523|3.0980208832791707|    null|8.322476153044596|   null|257.5278122651717|     null|   null|   null| null|    null| null|100.12874599059819|    null|2.3034410449312293| null|\n",
      "|    min|               18|                -1|                 1|cellular|                1|default|                0|education|housing| admin.| loan|divorced|  apr|                -1| failure|                 0|   no|\n",
      "|    max|              age|           balance|          campaign| unknown|              day|    yes|         duration|  unknown|    yes|unknown|  yes|  single|  sep|             pdays| unknown|          previous|  yes|\n",
      "+-------+-----------------+------------------+------------------+--------+-----------------+-------+-----------------+---------+-------+-------+-----+--------+-----+------------------+--------+------------------+-----+\n",
      "\n"
     ]
    }
   ],
   "source": [
    "#description of the dataframe\n",
    "df.describe().show()"
   ]
  },
  {
   "cell_type": "markdown",
   "metadata": {},
   "source": [
    "## 2. Some Statistics"
   ]
  },
  {
   "cell_type": "markdown",
   "metadata": {},
   "source": [
    "### Marketing success  rate"
   ]
  },
  {
   "cell_type": "code",
   "execution_count": 212,
   "metadata": {},
   "outputs": [
    {
     "name": "stdout",
     "output_type": "stream",
     "text": [
      "+---+-----+----+\n",
      "|y_y|   no| yes|\n",
      "+---+-----+----+\n",
      "|yes|    0|5289|\n",
      "| no|39922|   0|\n",
      "+---+-----+----+\n",
      "\n"
     ]
    }
   ],
   "source": [
    "N=df.count()\n",
    "df.crosstab('y','y').show()"
   ]
  },
  {
   "cell_type": "code",
   "execution_count": 158,
   "metadata": {},
   "outputs": [
    {
     "name": "stdout",
     "output_type": "stream",
     "text": [
      "the marketing sucess rate is 11.7 %\n",
      "the marketing failure rate is 88.3 %\n"
     ]
    }
   ],
   "source": [
    "print('the marketing sucess rate is {} %'.format(round(5289*100/N,2)))\n",
    "print('the marketing failure rate is {} %'.format(round(39922*100/N,2)))  "
   ]
  },
  {
   "cell_type": "markdown",
   "metadata": {},
   "source": [
    "### . Give the maximum, mean, and minimum age of the average targeted customer\n"
   ]
  },
  {
   "cell_type": "code",
   "execution_count": 213,
   "metadata": {},
   "outputs": [
    {
     "name": "stdout",
     "output_type": "stream",
     "text": [
      "+-------+-----------------+\n",
      "|summary|              age|\n",
      "+-------+-----------------+\n",
      "|  count|            45211|\n",
      "|   mean|40.93621021432837|\n",
      "| stddev|10.61876204097542|\n",
      "|    min|               18|\n",
      "|    max|               95|\n",
      "+-------+-----------------+\n",
      "\n"
     ]
    }
   ],
   "source": [
    "df.describe('age').show()"
   ]
  },
  {
   "cell_type": "code",
   "execution_count": 176,
   "metadata": {},
   "outputs": [
    {
     "name": "stdout",
     "output_type": "stream",
     "text": [
      "the maximum, mean, and the minimum age of the targeted customer are respectively 95 ,40.94 and 18\n"
     ]
    }
   ],
   "source": [
    "print('the maximum, mean, and the minimum age of the targeted customer are respectively {} ,{} and {}'.format\n",
    "      (95,40.94,18))"
   ]
  },
  {
   "cell_type": "markdown",
   "metadata": {},
   "source": [
    "### Check the quality of customers by checking average balance, median balance of customers\n"
   ]
  },
  {
   "cell_type": "code",
   "execution_count": 179,
   "metadata": {},
   "outputs": [
    {
     "name": "stdout",
     "output_type": "stream",
     "text": [
      "+-------+------------------+\n",
      "|summary|           balance|\n",
      "+-------+------------------+\n",
      "|  count|             45211|\n",
      "|   mean|1362.2720576850766|\n",
      "| stddev| 3044.765829168523|\n",
      "|    min|                -1|\n",
      "|    max|              9997|\n",
      "+-------+------------------+\n",
      "\n"
     ]
    }
   ],
   "source": [
    "df.describe('balance').show()\n"
   ]
  },
  {
   "cell_type": "code",
   "execution_count": 247,
   "metadata": {},
   "outputs": [
    {
     "data": {
      "text/plain": [
       "pyspark.sql.dataframe.DataFrame"
      ]
     },
     "execution_count": 247,
     "metadata": {},
     "output_type": "execute_result"
    }
   ],
   "source": [
    "#conversion of string to float\n",
    "bal=df.select(df.balance.cast(\"float\"))\n",
    "type(bal)\n",
    " "
   ]
  },
  {
   "cell_type": "code",
   "execution_count": 248,
   "metadata": {},
   "outputs": [
    {
     "data": {
      "text/plain": [
       "[-8019.0]"
      ]
     },
     "execution_count": 248,
     "metadata": {},
     "output_type": "execute_result"
    }
   ],
   "source": [
    "bal.approxQuantile('balance',probabilities=[0.5],relativeError=1)\n"
   ]
  },
  {
   "cell_type": "code",
   "execution_count": 249,
   "metadata": {},
   "outputs": [
    {
     "name": "stdout",
     "output_type": "stream",
     "text": [
      "the mean and median of the balance are far differents \n"
     ]
    }
   ],
   "source": [
    "print(\"the mean and median of the balance are far differents \")"
   ]
  },
  {
   "cell_type": "markdown",
   "metadata": {},
   "source": [
    "### Check if age matters in marketing subscription for deposit"
   ]
  },
  {
   "cell_type": "code",
   "execution_count": 180,
   "metadata": {},
   "outputs": [
    {
     "name": "stdout",
     "output_type": "stream",
     "text": [
      "+---+------------------+\n",
      "|  y|          avg(age)|\n",
      "+---+------------------+\n",
      "| no| 40.83898602274435|\n",
      "|yes|41.670069956513515|\n",
      "+---+------------------+\n",
      "\n"
     ]
    }
   ],
   "source": [
    "df.groupby('y').agg({'age':'mean'}).show()"
   ]
  },
  {
   "cell_type": "code",
   "execution_count": 251,
   "metadata": {},
   "outputs": [
    {
     "name": "stdout",
     "output_type": "stream",
     "text": [
      "The difference between the mean average is of 0.84 year. age matters a litte bit\n"
     ]
    }
   ],
   "source": [
    "print('The difference between the mean average is of 0.84 year. age matters a litte bit on the subscription')"
   ]
  },
  {
   "cell_type": "markdown",
   "metadata": {},
   "source": [
    "### Check if marital status mattered for a subscription to deposit"
   ]
  },
  {
   "cell_type": "code",
   "execution_count": 181,
   "metadata": {},
   "outputs": [
    {
     "name": "stdout",
     "output_type": "stream",
     "text": [
      "+---------+--------+-------+------+\n",
      "|y_marital|divorced|married|single|\n",
      "+---------+--------+-------+------+\n",
      "|      yes|     622|   2755|  1912|\n",
      "|       no|    4585|  24459| 10878|\n",
      "+---------+--------+-------+------+\n",
      "\n"
     ]
    }
   ],
   "source": [
    "df.crosstab('y', 'marital').show()"
   ]
  },
  {
   "cell_type": "code",
   "execution_count": 253,
   "metadata": {},
   "outputs": [
    {
     "name": "stdout",
     "output_type": "stream",
     "text": [
      "percentage of subscription for divorced is 11.95\n",
      "percentage of subscription for married is 10.12\n",
      "percentage of subscription for single is 14.95\n"
     ]
    }
   ],
   "source": [
    "#percentage of subscription by marital status\n",
    "mari=['divorced', 'married', 'single']\n",
    "A=[622,2755,1912]; B=[5207,27214,12790]\n",
    "C=[A[i]*100/B[i] for i in range(3)]\n",
    "\n",
    "for i in range(3):\n",
    "    print(\"percentage of subscription for \" +str(mari[i])+\" is {}\".format(round(C[i],2)))"
   ]
  },
  {
   "cell_type": "code",
   "execution_count": 254,
   "metadata": {},
   "outputs": [
    {
     "name": "stdout",
     "output_type": "stream",
     "text": [
      "we can conclude that there is a effect of the marital status on the susbscription: \n",
      "for instance single are more excited to subscribe whereas married are less excited\n"
     ]
    }
   ],
   "source": [
    "print('we can conclude that there is a effect of the marital status on the susbscription: ')\n",
    "print('for instance single are more excited to subscribe whereas married are less excited') "
   ]
  },
  {
   "cell_type": "markdown",
   "metadata": {},
   "source": [
    "### Check if age and marital status together mattered for a subscription to deposit scheme"
   ]
  },
  {
   "cell_type": "code",
   "execution_count": 259,
   "metadata": {},
   "outputs": [
    {
     "name": "stdout",
     "output_type": "stream",
     "text": [
      "+---+--------+------------------+\n",
      "|  y| marital|          avg(age)|\n",
      "+---+--------+------------------+\n",
      "| no| married| 43.05854695613067|\n",
      "| no|  single| 33.96258503401361|\n",
      "|yes|  single| 32.22907949790795|\n",
      "|yes| married| 46.51143375680581|\n",
      "| no|divorced| 45.31297709923664|\n",
      "|yes|divorced|49.247588424437296|\n",
      "+---+--------+------------------+\n",
      "\n"
     ]
    }
   ],
   "source": [
    "df.groupby('y','marital').agg({'age':'mean'}).show()"
   ]
  },
  {
   "cell_type": "code",
   "execution_count": 256,
   "metadata": {},
   "outputs": [
    {
     "name": "stdout",
     "output_type": "stream",
     "text": [
      "as in the above table, we can see that there is a join effect of age and marital status on subscription\n"
     ]
    }
   ],
   "source": [
    "print(\"as in the above table, we can see that there is a join effect of age and marital status on subscription\")"
   ]
  },
  {
   "cell_type": "markdown",
   "metadata": {},
   "source": [
    "### Do feature engineering for the bank and find the right age effect on the campaign."
   ]
  },
  {
   "cell_type": "code",
   "execution_count": 269,
   "metadata": {},
   "outputs": [
    {
     "name": "stdout",
     "output_type": "stream",
     "text": [
      "+---+-------+--------+-------+---+-------+--------+---------+-------+------------+----+-------+-----+-----+--------+--------+---+-----+\n",
      "|age|balance|campaign|contact|day|default|duration|education|housing|         job|loan|marital|month|pdays|poutcome|previous|  y|g_age|\n",
      "+---+-------+--------+-------+---+-------+--------+---------+-------+------------+----+-------+-----+-----+--------+--------+---+-----+\n",
      "| 58|   2143|       1|unknown|  5|     no|     261| tertiary|    yes|  management|  no|married|  may|   -1| unknown|       0| no|  mid|\n",
      "| 44|     29|       1|unknown|  5|     no|     151|secondary|    yes|  technician|  no| single|  may|   -1| unknown|       0| no|  mid|\n",
      "| 33|      2|       1|unknown|  5|     no|      76|secondary|    yes|entrepreneur| yes|married|  may|   -1| unknown|       0| no|  mid|\n",
      "| 47|   1506|       1|unknown|  5|     no|      92|  unknown|    yes| blue-collar|  no|married|  may|   -1| unknown|       0| no|  mid|\n",
      "| 33|      1|       1|unknown|  5|     no|     198|  unknown|     no|     unknown|  no| single|  may|   -1| unknown|       0| no|  mid|\n",
      "+---+-------+--------+-------+---+-------+--------+---------+-------+------------+----+-------+-----+-----+--------+--------+---+-----+\n",
      "only showing top 5 rows\n",
      "\n"
     ]
    }
   ],
   "source": [
    "from pyspark.sql.functions import when\n",
    "\n",
    "df2=df.withColumn(\"g_age\",when(df.age>65, 'Old').when( df.age>30, 'mid').otherwise('Young'))\n",
    "df2.show(5)"
   ]
  },
  {
   "cell_type": "code",
   "execution_count": 278,
   "metadata": {},
   "outputs": [
    {
     "name": "stdout",
     "output_type": "stream",
     "text": [
      "+-------+---+-----+-----+\n",
      "|y_g_age|Old|Young|  mid|\n",
      "+-------+---+-----+-----+\n",
      "|    yes|320| 1145| 3824|\n",
      "|     no|431| 5885|33606|\n",
      "+-------+---+-----+-----+\n",
      "\n"
     ]
    }
   ],
   "source": [
    "df2.crosstab('y', 'g_age').show()"
   ]
  },
  {
   "cell_type": "code",
   "execution_count": 279,
   "metadata": {},
   "outputs": [
    {
     "name": "stdout",
     "output_type": "stream",
     "text": [
      "percentage of subscription for Old is 42.61\n",
      "percentage of subscription for Young is 16.29\n",
      "percentage of subscription for mid is 10.21\n"
     ]
    }
   ],
   "source": [
    "#percentage of subscription by gpe age\n",
    "ag=['Old', 'Young', 'mid']\n",
    "A=[320,1145,3821]; B=[751,7030,37430]\n",
    "C=[A[i]*100/B[i] for i in range(3)]\n",
    "\n",
    "for i in range(3):\n",
    "    print(\"percentage of subscription for \" +str(ag[i])+\" is {}\".format(round(C[i],2)))"
   ]
  },
  {
   "cell_type": "code",
   "execution_count": 280,
   "metadata": {},
   "outputs": [
    {
     "name": "stdout",
     "output_type": "stream",
     "text": [
      "We can then conclude that Old people are much interested meanwhile Mid people are less interested\n"
     ]
    }
   ],
   "source": [
    "print(\"We can then conclude that Old people are much interested meanwhile Mid people are less interested\")"
   ]
  },
  {
   "cell_type": "code",
   "execution_count": null,
   "metadata": {},
   "outputs": [],
   "source": [
    "## important link https://www.analyticsvidhya.com/blog/2016/10/spark-dataframe-and-operations/"
   ]
  }
 ],
 "metadata": {
  "kernelspec": {
   "display_name": "Python 3",
   "language": "python",
   "name": "python3"
  },
  "language_info": {
   "codemirror_mode": {
    "name": "ipython",
    "version": 3
   },
   "file_extension": ".py",
   "mimetype": "text/x-python",
   "name": "python",
   "nbconvert_exporter": "python",
   "pygments_lexer": "ipython3",
   "version": "3.7.0"
  }
 },
 "nbformat": 4,
 "nbformat_minor": 2
}
